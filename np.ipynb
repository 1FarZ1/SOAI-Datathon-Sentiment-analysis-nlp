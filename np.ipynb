{
 "cells": [
  {
   "cell_type": "code",
   "execution_count": 293,
   "metadata": {},
   "outputs": [],
   "source": [
    "import pandas as pd "
   ]
  },
  {
   "cell_type": "code",
   "execution_count": 294,
   "metadata": {},
   "outputs": [],
   "source": [
    "df = pd.read_csv('data/training_data.csv')"
   ]
  },
  {
   "cell_type": "code",
   "execution_count": 295,
   "metadata": {},
   "outputs": [],
   "source": [
    "## remove all the rows that have a class of 5\n",
    "df = df[df['class'] != 5]\n"
   ]
  },
  {
   "cell_type": "markdown",
   "metadata": {},
   "source": [
    "## Eda"
   ]
  },
  {
   "cell_type": "code",
   "execution_count": 296,
   "metadata": {},
   "outputs": [
    {
     "data": {
      "text/html": [
       "<div>\n",
       "<style scoped>\n",
       "    .dataframe tbody tr th:only-of-type {\n",
       "        vertical-align: middle;\n",
       "    }\n",
       "\n",
       "    .dataframe tbody tr th {\n",
       "        vertical-align: top;\n",
       "    }\n",
       "\n",
       "    .dataframe thead th {\n",
       "        text-align: right;\n",
       "    }\n",
       "</style>\n",
       "<table border=\"1\" class=\"dataframe\">\n",
       "  <thead>\n",
       "    <tr style=\"text-align: right;\">\n",
       "      <th></th>\n",
       "      <th>id</th>\n",
       "      <th>text</th>\n",
       "      <th>class</th>\n",
       "      <th>volunteers_count</th>\n",
       "      <th>judgment_confidence</th>\n",
       "    </tr>\n",
       "  </thead>\n",
       "  <tbody>\n",
       "    <tr>\n",
       "      <th>2</th>\n",
       "      <td>16632</td>\n",
       "      <td>i just need to find ways to feel pretty</td>\n",
       "      <td>1</td>\n",
       "      <td>4.0</td>\n",
       "      <td>0.852762</td>\n",
       "    </tr>\n",
       "    <tr>\n",
       "      <th>4</th>\n",
       "      <td>3079</td>\n",
       "      <td>im feeling mellow and am enjoying the cooler w...</td>\n",
       "      <td>1</td>\n",
       "      <td>4.0</td>\n",
       "      <td>0.953162</td>\n",
       "    </tr>\n",
       "    <tr>\n",
       "      <th>9</th>\n",
       "      <td>3016</td>\n",
       "      <td>im sure it feels wonderful</td>\n",
       "      <td>1</td>\n",
       "      <td>3.0</td>\n",
       "      <td>0.864743</td>\n",
       "    </tr>\n",
       "    <tr>\n",
       "      <th>13</th>\n",
       "      <td>9541</td>\n",
       "      <td>i have survived the low part of the crash im s...</td>\n",
       "      <td>1</td>\n",
       "      <td>3.0</td>\n",
       "      <td>0.813694</td>\n",
       "    </tr>\n",
       "    <tr>\n",
       "      <th>20</th>\n",
       "      <td>7839</td>\n",
       "      <td>i prayed to trust god with my desire to feel a...</td>\n",
       "      <td>1</td>\n",
       "      <td>3.0</td>\n",
       "      <td>1.000000</td>\n",
       "    </tr>\n",
       "    <tr>\n",
       "      <th>...</th>\n",
       "      <td>...</td>\n",
       "      <td>...</td>\n",
       "      <td>...</td>\n",
       "      <td>...</td>\n",
       "      <td>...</td>\n",
       "    </tr>\n",
       "    <tr>\n",
       "      <th>15450</th>\n",
       "      <td>769</td>\n",
       "      <td>i feel very amused at that pic</td>\n",
       "      <td>1</td>\n",
       "      <td>3.0</td>\n",
       "      <td>0.710439</td>\n",
       "    </tr>\n",
       "    <tr>\n",
       "      <th>15454</th>\n",
       "      <td>11363</td>\n",
       "      <td>i want to box because i feel more confident in...</td>\n",
       "      <td>1</td>\n",
       "      <td>3.0</td>\n",
       "      <td>0.923899</td>\n",
       "    </tr>\n",
       "    <tr>\n",
       "      <th>15457</th>\n",
       "      <td>16850</td>\n",
       "      <td>i feel contented but i m going to bet that i l...</td>\n",
       "      <td>1</td>\n",
       "      <td>4.0</td>\n",
       "      <td>0.799997</td>\n",
       "    </tr>\n",
       "    <tr>\n",
       "      <th>15461</th>\n",
       "      <td>5390</td>\n",
       "      <td>i dont feel the need to be truthful its comple...</td>\n",
       "      <td>1</td>\n",
       "      <td>5.0</td>\n",
       "      <td>1.000000</td>\n",
       "    </tr>\n",
       "    <tr>\n",
       "      <th>15463</th>\n",
       "      <td>15795</td>\n",
       "      <td>i feel very graceful today</td>\n",
       "      <td>1</td>\n",
       "      <td>3.0</td>\n",
       "      <td>1.000000</td>\n",
       "    </tr>\n",
       "  </tbody>\n",
       "</table>\n",
       "<p>4397 rows × 5 columns</p>\n",
       "</div>"
      ],
      "text/plain": [
       "          id                                               text  class  \\\n",
       "2      16632            i just need to find ways to feel pretty      1   \n",
       "4       3079  im feeling mellow and am enjoying the cooler w...      1   \n",
       "9       3016                         im sure it feels wonderful      1   \n",
       "13      9541  i have survived the low part of the crash im s...      1   \n",
       "20      7839  i prayed to trust god with my desire to feel a...      1   \n",
       "...      ...                                                ...    ...   \n",
       "15450    769                     i feel very amused at that pic      1   \n",
       "15454  11363  i want to box because i feel more confident in...      1   \n",
       "15457  16850  i feel contented but i m going to bet that i l...      1   \n",
       "15461   5390  i dont feel the need to be truthful its comple...      1   \n",
       "15463  15795                         i feel very graceful today      1   \n",
       "\n",
       "       volunteers_count  judgment_confidence  \n",
       "2                   4.0             0.852762  \n",
       "4                   4.0             0.953162  \n",
       "9                   3.0             0.864743  \n",
       "13                  3.0             0.813694  \n",
       "20                  3.0             1.000000  \n",
       "...                 ...                  ...  \n",
       "15450               3.0             0.710439  \n",
       "15454               3.0             0.923899  \n",
       "15457               4.0             0.799997  \n",
       "15461               5.0             1.000000  \n",
       "15463               3.0             1.000000  \n",
       "\n",
       "[4397 rows x 5 columns]"
      ]
     },
     "execution_count": 296,
     "metadata": {},
     "output_type": "execute_result"
    }
   ],
   "source": [
    "df[df['class'] == 1]"
   ]
  },
  {
   "cell_type": "code",
   "execution_count": 297,
   "metadata": {},
   "outputs": [
    {
     "data": {
      "text/html": [
       "<div>\n",
       "<style scoped>\n",
       "    .dataframe tbody tr th:only-of-type {\n",
       "        vertical-align: middle;\n",
       "    }\n",
       "\n",
       "    .dataframe tbody tr th {\n",
       "        vertical-align: top;\n",
       "    }\n",
       "\n",
       "    .dataframe thead th {\n",
       "        text-align: right;\n",
       "    }\n",
       "</style>\n",
       "<table border=\"1\" class=\"dataframe\">\n",
       "  <thead>\n",
       "    <tr style=\"text-align: right;\">\n",
       "      <th></th>\n",
       "      <th>id</th>\n",
       "      <th>text</th>\n",
       "      <th>class</th>\n",
       "      <th>volunteers_count</th>\n",
       "      <th>judgment_confidence</th>\n",
       "    </tr>\n",
       "  </thead>\n",
       "  <tbody>\n",
       "    <tr>\n",
       "      <th>0</th>\n",
       "      <td>366</td>\n",
       "      <td>i would not feel hesitant in using the medical...</td>\n",
       "      <td>4</td>\n",
       "      <td>3.0</td>\n",
       "      <td>0.917835</td>\n",
       "    </tr>\n",
       "    <tr>\n",
       "      <th>1</th>\n",
       "      <td>9003</td>\n",
       "      <td>i try to stuff my wildly feeling heart and mes...</td>\n",
       "      <td>0</td>\n",
       "      <td>3.0</td>\n",
       "      <td>0.788853</td>\n",
       "    </tr>\n",
       "    <tr>\n",
       "      <th>2</th>\n",
       "      <td>16632</td>\n",
       "      <td>i just need to find ways to feel pretty</td>\n",
       "      <td>1</td>\n",
       "      <td>4.0</td>\n",
       "      <td>0.852762</td>\n",
       "    </tr>\n",
       "    <tr>\n",
       "      <th>3</th>\n",
       "      <td>2199</td>\n",
       "      <td>i think the protection part is the part where ...</td>\n",
       "      <td>0</td>\n",
       "      <td>4.0</td>\n",
       "      <td>0.793927</td>\n",
       "    </tr>\n",
       "    <tr>\n",
       "      <th>4</th>\n",
       "      <td>3079</td>\n",
       "      <td>im feeling mellow and am enjoying the cooler w...</td>\n",
       "      <td>1</td>\n",
       "      <td>4.0</td>\n",
       "      <td>0.953162</td>\n",
       "    </tr>\n",
       "  </tbody>\n",
       "</table>\n",
       "</div>"
      ],
      "text/plain": [
       "      id                                               text  class  \\\n",
       "0    366  i would not feel hesitant in using the medical...      4   \n",
       "1   9003  i try to stuff my wildly feeling heart and mes...      0   \n",
       "2  16632            i just need to find ways to feel pretty      1   \n",
       "3   2199  i think the protection part is the part where ...      0   \n",
       "4   3079  im feeling mellow and am enjoying the cooler w...      1   \n",
       "\n",
       "   volunteers_count  judgment_confidence  \n",
       "0               3.0             0.917835  \n",
       "1               3.0             0.788853  \n",
       "2               4.0             0.852762  \n",
       "3               4.0             0.793927  \n",
       "4               4.0             0.953162  "
      ]
     },
     "execution_count": 297,
     "metadata": {},
     "output_type": "execute_result"
    }
   ],
   "source": [
    "df.head()"
   ]
  },
  {
   "cell_type": "code",
   "execution_count": 298,
   "metadata": {},
   "outputs": [
    {
     "data": {
      "text/plain": [
       "Index(['id', 'text', 'class', 'volunteers_count', 'judgment_confidence'], dtype='object')"
      ]
     },
     "execution_count": 298,
     "metadata": {},
     "output_type": "execute_result"
    }
   ],
   "source": [
    "df.columns"
   ]
  },
  {
   "cell_type": "code",
   "execution_count": 299,
   "metadata": {},
   "outputs": [
    {
     "data": {
      "text/html": [
       "<div>\n",
       "<style scoped>\n",
       "    .dataframe tbody tr th:only-of-type {\n",
       "        vertical-align: middle;\n",
       "    }\n",
       "\n",
       "    .dataframe tbody tr th {\n",
       "        vertical-align: top;\n",
       "    }\n",
       "\n",
       "    .dataframe thead th {\n",
       "        text-align: right;\n",
       "    }\n",
       "</style>\n",
       "<table border=\"1\" class=\"dataframe\">\n",
       "  <thead>\n",
       "    <tr style=\"text-align: right;\">\n",
       "      <th></th>\n",
       "      <th>id</th>\n",
       "      <th>text</th>\n",
       "      <th>class</th>\n",
       "      <th>volunteers_count</th>\n",
       "      <th>judgment_confidence</th>\n",
       "    </tr>\n",
       "  </thead>\n",
       "  <tbody>\n",
       "    <tr>\n",
       "      <th>93</th>\n",
       "      <td>425</td>\n",
       "      <td>Charlie bit me</td>\n",
       "      <td>2</td>\n",
       "      <td>3.0</td>\n",
       "      <td>1.000000</td>\n",
       "    </tr>\n",
       "    <tr>\n",
       "      <th>114</th>\n",
       "      <td>8596</td>\n",
       "      <td>i feel so annoyed</td>\n",
       "      <td>3</td>\n",
       "      <td>2.0</td>\n",
       "      <td>1.000000</td>\n",
       "    </tr>\n",
       "    <tr>\n",
       "      <th>249</th>\n",
       "      <td>4667</td>\n",
       "      <td>i feel agitated</td>\n",
       "      <td>3</td>\n",
       "      <td>4.0</td>\n",
       "      <td>0.895352</td>\n",
       "    </tr>\n",
       "    <tr>\n",
       "      <th>284</th>\n",
       "      <td>1535</td>\n",
       "      <td>i dun feel happy</td>\n",
       "      <td>1</td>\n",
       "      <td>3.0</td>\n",
       "      <td>0.874027</td>\n",
       "    </tr>\n",
       "    <tr>\n",
       "      <th>442</th>\n",
       "      <td>8255</td>\n",
       "      <td>Long yellow.</td>\n",
       "      <td>2</td>\n",
       "      <td>6.0</td>\n",
       "      <td>1.000000</td>\n",
       "    </tr>\n",
       "    <tr>\n",
       "      <th>...</th>\n",
       "      <td>...</td>\n",
       "      <td>...</td>\n",
       "      <td>...</td>\n",
       "      <td>...</td>\n",
       "      <td>...</td>\n",
       "    </tr>\n",
       "    <tr>\n",
       "      <th>15174</th>\n",
       "      <td>11093</td>\n",
       "      <td>i feel so cute</td>\n",
       "      <td>1</td>\n",
       "      <td>2.0</td>\n",
       "      <td>0.960544</td>\n",
       "    </tr>\n",
       "    <tr>\n",
       "      <th>15328</th>\n",
       "      <td>7526</td>\n",
       "      <td>fear of thief</td>\n",
       "      <td>4</td>\n",
       "      <td>3.0</td>\n",
       "      <td>0.961709</td>\n",
       "    </tr>\n",
       "    <tr>\n",
       "      <th>15393</th>\n",
       "      <td>7208</td>\n",
       "      <td>i feel smart though</td>\n",
       "      <td>1</td>\n",
       "      <td>3.0</td>\n",
       "      <td>0.880569</td>\n",
       "    </tr>\n",
       "    <tr>\n",
       "      <th>15416</th>\n",
       "      <td>1585</td>\n",
       "      <td>i do feel confused</td>\n",
       "      <td>4</td>\n",
       "      <td>4.0</td>\n",
       "      <td>1.000000</td>\n",
       "    </tr>\n",
       "    <tr>\n",
       "      <th>15435</th>\n",
       "      <td>11394</td>\n",
       "      <td>versace bird feeder</td>\n",
       "      <td>2</td>\n",
       "      <td>3.0</td>\n",
       "      <td>1.000000</td>\n",
       "    </tr>\n",
       "  </tbody>\n",
       "</table>\n",
       "<p>176 rows × 5 columns</p>\n",
       "</div>"
      ],
      "text/plain": [
       "          id                 text  class  volunteers_count  \\\n",
       "93       425       Charlie bit me      2               3.0   \n",
       "114     8596    i feel so annoyed      3               2.0   \n",
       "249     4667      i feel agitated      3               4.0   \n",
       "284     1535     i dun feel happy      1               3.0   \n",
       "442     8255         Long yellow.      2               6.0   \n",
       "...      ...                  ...    ...               ...   \n",
       "15174  11093       i feel so cute      1               2.0   \n",
       "15328   7526        fear of thief      4               3.0   \n",
       "15393   7208  i feel smart though      1               3.0   \n",
       "15416   1585   i do feel confused      4               4.0   \n",
       "15435  11394  versace bird feeder      2               3.0   \n",
       "\n",
       "       judgment_confidence  \n",
       "93                1.000000  \n",
       "114               1.000000  \n",
       "249               0.895352  \n",
       "284               0.874027  \n",
       "442               1.000000  \n",
       "...                    ...  \n",
       "15174             0.960544  \n",
       "15328             0.961709  \n",
       "15393             0.880569  \n",
       "15416             1.000000  \n",
       "15435             1.000000  \n",
       "\n",
       "[176 rows x 5 columns]"
      ]
     },
     "execution_count": 299,
     "metadata": {},
     "output_type": "execute_result"
    }
   ],
   "source": [
    "df.query('text.str.len() <20')"
   ]
  },
  {
   "cell_type": "code",
   "execution_count": 300,
   "metadata": {},
   "outputs": [
    {
     "name": "stdout",
     "output_type": "stream",
     "text": [
      "<class 'pandas.core.frame.DataFrame'>\n",
      "Int64Index: 14992 entries, 0 to 15463\n",
      "Data columns (total 5 columns):\n",
      " #   Column               Non-Null Count  Dtype  \n",
      "---  ------               --------------  -----  \n",
      " 0   id                   14992 non-null  int64  \n",
      " 1   text                 14992 non-null  object \n",
      " 2   class                14992 non-null  int64  \n",
      " 3   volunteers_count     14992 non-null  float64\n",
      " 4   judgment_confidence  14992 non-null  float64\n",
      "dtypes: float64(2), int64(2), object(1)\n",
      "memory usage: 702.8+ KB\n"
     ]
    }
   ],
   "source": [
    "\n",
    "df.info()"
   ]
  },
  {
   "cell_type": "code",
   "execution_count": 301,
   "metadata": {},
   "outputs": [
    {
     "data": {
      "text/html": [
       "<div>\n",
       "<style scoped>\n",
       "    .dataframe tbody tr th:only-of-type {\n",
       "        vertical-align: middle;\n",
       "    }\n",
       "\n",
       "    .dataframe tbody tr th {\n",
       "        vertical-align: top;\n",
       "    }\n",
       "\n",
       "    .dataframe thead th {\n",
       "        text-align: right;\n",
       "    }\n",
       "</style>\n",
       "<table border=\"1\" class=\"dataframe\">\n",
       "  <thead>\n",
       "    <tr style=\"text-align: right;\">\n",
       "      <th></th>\n",
       "      <th>id</th>\n",
       "      <th>class</th>\n",
       "      <th>volunteers_count</th>\n",
       "      <th>judgment_confidence</th>\n",
       "    </tr>\n",
       "  </thead>\n",
       "  <tbody>\n",
       "    <tr>\n",
       "      <th>count</th>\n",
       "      <td>14992.000000</td>\n",
       "      <td>14992.000000</td>\n",
       "      <td>14992.000000</td>\n",
       "      <td>14992.000000</td>\n",
       "    </tr>\n",
       "    <tr>\n",
       "      <th>mean</th>\n",
       "      <td>9427.327041</td>\n",
       "      <td>1.523279</td>\n",
       "      <td>3.172025</td>\n",
       "      <td>0.881918</td>\n",
       "    </tr>\n",
       "    <tr>\n",
       "      <th>std</th>\n",
       "      <td>5452.772805</td>\n",
       "      <td>1.274271</td>\n",
       "      <td>0.774973</td>\n",
       "      <td>0.128695</td>\n",
       "    </tr>\n",
       "    <tr>\n",
       "      <th>min</th>\n",
       "      <td>1.000000</td>\n",
       "      <td>0.000000</td>\n",
       "      <td>0.000000</td>\n",
       "      <td>0.322501</td>\n",
       "    </tr>\n",
       "    <tr>\n",
       "      <th>25%</th>\n",
       "      <td>4691.500000</td>\n",
       "      <td>0.000000</td>\n",
       "      <td>3.000000</td>\n",
       "      <td>0.788911</td>\n",
       "    </tr>\n",
       "    <tr>\n",
       "      <th>50%</th>\n",
       "      <td>9434.500000</td>\n",
       "      <td>1.000000</td>\n",
       "      <td>3.000000</td>\n",
       "      <td>0.923322</td>\n",
       "    </tr>\n",
       "    <tr>\n",
       "      <th>75%</th>\n",
       "      <td>14151.500000</td>\n",
       "      <td>2.000000</td>\n",
       "      <td>4.000000</td>\n",
       "      <td>1.000000</td>\n",
       "    </tr>\n",
       "    <tr>\n",
       "      <th>max</th>\n",
       "      <td>18858.000000</td>\n",
       "      <td>4.000000</td>\n",
       "      <td>9.000000</td>\n",
       "      <td>1.000000</td>\n",
       "    </tr>\n",
       "  </tbody>\n",
       "</table>\n",
       "</div>"
      ],
      "text/plain": [
       "                 id         class  volunteers_count  judgment_confidence\n",
       "count  14992.000000  14992.000000      14992.000000         14992.000000\n",
       "mean    9427.327041      1.523279          3.172025             0.881918\n",
       "std     5452.772805      1.274271          0.774973             0.128695\n",
       "min        1.000000      0.000000          0.000000             0.322501\n",
       "25%     4691.500000      0.000000          3.000000             0.788911\n",
       "50%     9434.500000      1.000000          3.000000             0.923322\n",
       "75%    14151.500000      2.000000          4.000000             1.000000\n",
       "max    18858.000000      4.000000          9.000000             1.000000"
      ]
     },
     "execution_count": 301,
     "metadata": {},
     "output_type": "execute_result"
    }
   ],
   "source": [
    "df.describe()"
   ]
  },
  {
   "cell_type": "code",
   "execution_count": 302,
   "metadata": {},
   "outputs": [
    {
     "data": {
      "text/plain": [
       "array([ 3.,  4.,  2.,  5.,  1.,  6.,  9.,  7., -0.])"
      ]
     },
     "execution_count": 302,
     "metadata": {},
     "output_type": "execute_result"
    }
   ],
   "source": [
    "df['volunteers_count'].unique()"
   ]
  },
  {
   "cell_type": "code",
   "execution_count": 303,
   "metadata": {},
   "outputs": [
    {
     "data": {
      "text/plain": [
       "array([0.91783472, 0.78885252, 0.85276185, ..., 0.99387755, 0.77359276,\n",
       "       0.85195607])"
      ]
     },
     "execution_count": 303,
     "metadata": {},
     "output_type": "execute_result"
    }
   ],
   "source": [
    "df['judgment_confidence'].unique()"
   ]
  },
  {
   "cell_type": "code",
   "execution_count": 304,
   "metadata": {},
   "outputs": [
    {
     "data": {
      "text/plain": [
       "1    4397\n",
       "0    3826\n",
       "2    3440\n",
       "3    1756\n",
       "4    1573\n",
       "Name: class, dtype: int64"
      ]
     },
     "execution_count": 304,
     "metadata": {},
     "output_type": "execute_result"
    }
   ],
   "source": [
    "class_counts = df['class'].value_counts()\n",
    "\n",
    "class_counts"
   ]
  },
  {
   "cell_type": "code",
   "execution_count": 305,
   "metadata": {},
   "outputs": [
    {
     "data": {
      "image/png": "[encoded data removed]",
      "text/plain": [
       "<Figure size 640x480 with 1 Axes>"
      ]
     },
     "metadata": {},
     "output_type": "display_data"
    }
   ],
   "source": [
    "\n",
    "import seaborn as sns\n",
    "import matplotlib.pyplot as plt\n",
    "\n",
    "\n",
    "\n",
    "sns.countplot(x='class', data=df)\n",
    "plt.show()\n",
    "\n"
   ]
  },
  {
   "cell_type": "markdown",
   "metadata": {},
   "source": [
    "### Text Preprocessing"
   ]
  },
  {
   "cell_type": "code",
   "execution_count": 306,
   "metadata": {},
   "outputs": [],
   "source": [
    "\n",
    "import re\n",
    "\n",
    "def cleanHtml(sentence):\n",
    "    cleanr = re.compile('<.*?>')\n",
    "    cleantext = re.sub(cleanr, ' ', str(sentence))\n",
    "    return cleantext\n",
    "\n",
    "def cleanPunc(sentence):\n",
    "    cleaned = re.sub(r'[?|!|\\'|\"|#]',r'',sentence)\n",
    "    cleaned = re.sub(r'[.|,|)|(|\\|/]',r' ',cleaned)\n",
    "    cleaned = re.sub(r'&',r' ',cleaned)\n",
    "    cleaned = cleaned.strip()\n",
    "    cleaned = cleaned.replace(\"\\n\",\" \")\n",
    "    return cleaned\n",
    "\n",
    "\n",
    "def removeSpace(sentence: str) -> str:\n",
    "    sentence = sentence.strip()\n",
    "    sentence = sentence.replace(\"\\n\",\" \")\n",
    "    return sentence\n",
    "\n"
   ]
  },
  {
   "cell_type": "code",
   "execution_count": 307,
   "metadata": {},
   "outputs": [],
   "source": [
    "# df['text'] =df['text'].apply(cleanHtml)\n",
    "# df['text']= df['text'].apply(cleanPunc)\n",
    "\n",
    "# df['text'] "
   ]
  },
  {
   "cell_type": "markdown",
   "metadata": {},
   "source": [
    "## Removing Stop Words"
   ]
  },
  {
   "cell_type": "code",
   "execution_count": 308,
   "metadata": {},
   "outputs": [],
   "source": [
    "from nltk.corpus import stopwords\n",
    "\n",
    "stop_words = set(stopwords.words('english'))\n",
    "stop_words.update(['zero','one','two','three','four','five','six','seven','eight','nine','ten','may','also','across','among','beside','however','yet','within',])\n",
    "re_stop_words = re.compile(r\"\\b(\" + \"|\".join(stop_words) + \")\\\\W\", re.I)"
   ]
  },
  {
   "cell_type": "markdown",
   "metadata": {},
   "source": [
    "## removing Numbers"
   ]
  },
  {
   "cell_type": "code",
   "execution_count": 309,
   "metadata": {},
   "outputs": [],
   "source": [
    "def removeNumber(sentence):\n",
    "    sentence = re.sub(r\"\\d+\", \"\", sentence)\n",
    "    return sentence\n"
   ]
  },
  {
   "cell_type": "code",
   "execution_count": 310,
   "metadata": {},
   "outputs": [],
   "source": [
    "def removeStopWords(sentence):\n",
    "    global re_stop_words\n",
    "    return re_stop_words.sub(\" \", sentence)\n"
   ]
  },
  {
   "cell_type": "markdown",
   "metadata": {},
   "source": [
    "### Lemmatization\n",
    "\n"
   ]
  },
  {
   "cell_type": "code",
   "execution_count": 311,
   "metadata": {},
   "outputs": [],
   "source": [
    "from nltk.stem import WordNetLemmatizer\n",
    "from nltk.tokenize import word_tokenize\n",
    "\n",
    "lemmatizer = WordNetLemmatizer()\n",
    "\n",
    "def lemmatizeWord(word):\n",
    "    return lemmatizer.lemmatize(word)\n",
    "\n",
    "\n"
   ]
  },
  {
   "cell_type": "markdown",
   "metadata": {},
   "source": [
    "## Proccessing Text [First  Attempt]"
   ]
  },
  {
   "cell_type": "code",
   "execution_count": 312,
   "metadata": {},
   "outputs": [
    {
     "data": {
      "text/plain": [
       "0          would feel hesitant using medical system needed\n",
       "1        try stuff wildly feeling heart messy insides s...\n",
       "2                               need find ways feel pretty\n",
       "3        think protection part part feel abused reasons...\n",
       "4                im feeling mellow enjoying cooler weather\n",
       "                               ...                        \n",
       "15459                     really feel beaten us breastfeed\n",
       "15460    rt @rockprincess : go fight idf progressive tr...\n",
       "15461        dont feel need truthful completely written me\n",
       "15462                im feeling pretty discouraged morning\n",
       "15463                                  feel graceful today\n",
       "Name: text, Length: 14992, dtype: object"
      ]
     },
     "execution_count": 312,
     "metadata": {},
     "output_type": "execute_result"
    }
   ],
   "source": [
    "from nltk.tokenize import TweetTokenizer\n",
    "import nltk\n",
    "\n",
    "\n",
    "\n",
    "\n",
    "def proccess_text(text):\n",
    "    text = text.lower()\n",
    "    ## removing numbers\n",
    "    text = removeNumber(text)\n",
    "    ## removing stop words\n",
    "    text = removeStopWords(text)\n",
    "\n",
    "    ## clean html\n",
    "    text = cleanHtml(text)\n",
    "\n",
    "    ## clean punctuation\n",
    "    text = cleanPunc(text)\n",
    "\n",
    "\n",
    "    ## remove space\n",
    "    text = removeSpace(text)\n",
    "    \n",
    "\n",
    "    \n",
    "    ## tokenizing words\n",
    "    words = TweetTokenizer()\n",
    "    ## lemmatizing words\n",
    "    # words = [lemmatizeWord(word) for word in words.tokenize(text)]\n",
    "    words = words.tokenize(text)\n",
    "    text = removeSpace(text)\n",
    "    return ' '.join(words)\n",
    "\n",
    "\n",
    "\n",
    "df['text'] = df['text'].apply(proccess_text)\n",
    "\n",
    "df['text']"
   ]
  },
  {
   "cell_type": "code",
   "execution_count": 313,
   "metadata": {},
   "outputs": [
    {
     "data": {
      "text/plain": [
       "'im feeling mellow enjoying cooler weather'"
      ]
     },
     "execution_count": 313,
     "metadata": {},
     "output_type": "execute_result"
    }
   ],
   "source": [
    "df['text'].iloc[4]"
   ]
  },
  {
   "cell_type": "markdown",
   "metadata": {},
   "source": [
    "## Machine Learning Model "
   ]
  },
  {
   "cell_type": "markdown",
   "metadata": {},
   "source": [
    "### getting the Test data\n"
   ]
  },
  {
   "cell_type": "code",
   "execution_count": 314,
   "metadata": {},
   "outputs": [],
   "source": [
    "\n",
    "\n",
    "df_test = pd.read_csv('data/testing_data.csv')\n",
    "\n",
    "df_test['text'] = df_test['text'].apply(proccess_text)\n",
    "\n",
    "\n",
    "\n"
   ]
  },
  {
   "cell_type": "markdown",
   "metadata": {},
   "source": [
    "## Naive Bayes"
   ]
  },
  {
   "cell_type": "code",
   "execution_count": 315,
   "metadata": {},
   "outputs": [
    {
     "data": {
      "text/plain": [
       "<11993x51580 sparse matrix of type '<class 'numpy.float64'>'\n",
       "\twith 112146 stored elements in Compressed Sparse Row format>"
      ]
     },
     "execution_count": 315,
     "metadata": {},
     "output_type": "execute_result"
    }
   ],
   "source": [
    "from sklearn.feature_extraction.text import TfidfVectorizer\n",
    "from sklearn.naive_bayes import MultinomialNB\n",
    "from sklearn.metrics import classification_report\n",
    "\n",
    "\n",
    "from sklearn.model_selection import train_test_split\n",
    "\n",
    "\n",
    "\n",
    "train , test = train_test_split(df, test_size=0.2, random_state=42)\n",
    "vectorizer = TfidfVectorizer(strip_accents='unicode', analyzer='word', ngram_range=(1,3), norm='l2')\n",
    "vectorizer.fit(train['text'])\n",
    "vectorizer.fit(test['text'])\n",
    "\n",
    "X_train_tfidf = vectorizer.transform(train['text'])\n",
    "X_test_tfidf = vectorizer.transform(test['text'])\n",
    "\n",
    "\n",
    "\n",
    "X_train_tfidf\n",
    "\n",
    "# nb_classifier = MultinomialNB()\n",
    "# nb_classifier.fit(X_train_tfidf, train['class'])\n",
    "\n",
    "# y_pred = nb_classifier.predict(X_test_tfidf)\n",
    "\n",
    "# nb_classifier.score(X_test_tfidf, test['class'])\n",
    "\n",
    "\n"
   ]
  },
  {
   "cell_type": "markdown",
   "metadata": {},
   "source": [
    "## XGBoost"
   ]
  },
  {
   "cell_type": "code",
   "execution_count": 316,
   "metadata": {},
   "outputs": [
    {
     "name": "stdout",
     "output_type": "stream",
     "text": [
      "Requirement already satisfied: xgboost in c:\\users\\fares\\appdata\\local\\programs\\python\\python39\\lib\\site-packages (2.0.3)\n",
      "Requirement already satisfied: numpy in c:\\users\\fares\\appdata\\local\\programs\\python\\python39\\lib\\site-packages (from xgboost) (1.24.4)\n",
      "Requirement already satisfied: scipy in c:\\users\\fares\\appdata\\local\\programs\\python\\python39\\lib\\site-packages (from xgboost) (1.8.0)\n",
      "Note: you may need to restart the kernel to use updated packages.\n"
     ]
    },
    {
     "name": "stderr",
     "output_type": "stream",
     "text": [
      "\n",
      "[notice] A new release of pip is available: 23.3.2 -> 24.0\n",
      "[notice] To update, run: python.exe -m pip install --upgrade pip\n"
     ]
    }
   ],
   "source": [
    "%pip install xgboost\n"
   ]
  },
  {
   "cell_type": "code",
   "execution_count": 322,
   "metadata": {},
   "outputs": [
    {
     "name": "stdout",
     "output_type": "stream",
     "text": [
      "Fitting 3 folds for each of 27 candidates, totalling 81 fits\n"
     ]
    }
   ],
   "source": [
    "import pandas as pd\n",
    "from sklearn.pipeline import Pipeline\n",
    "from sklearn.compose import ColumnTransformer\n",
    "from sklearn.feature_extraction.text import TfidfVectorizer\n",
    "from sklearn.model_selection import train_test_split,GridSearchCV\n",
    "from sklearn.metrics import accuracy_score, classification_report\n",
    "from xgboost import XGBClassifier\n",
    "\n",
    "\n",
    "train, test = train_test_split(df, test_size=0.2, random_state=42)\n",
    "\n",
    "\n",
    "\n",
    "text_pipeline = Pipeline([\n",
    "    ('tfidf', TfidfVectorizer(strip_accents='unicode', analyzer='word', ngram_range=(1, 3), norm='l2'))\n",
    "])\n",
    "\n",
    "\n",
    "full_pipeline = ColumnTransformer([\n",
    "    ('text', text_pipeline, 'text'),  \n",
    "])\n",
    "\n",
    "pipeline_with_xgb = Pipeline([\n",
    "    ('preprocessing', full_pipeline),\n",
    "    ('clf', XGBClassifier(\n",
    "        \n",
    "    ))  \n",
    "])\n",
    "\n",
    "# pipeline_with_xgb.fit(train, train['class'])\n",
    "\n",
    "# y_pred = pipeline_with_xgb.predict(test)\n",
    "\n",
    "\n",
    "param_grid = {\n",
    "    'clf__learning_rate': [0.1, 0.2, 0.3],\n",
    "    'clf__max_depth': [3, 4, 5],\n",
    "    'clf__n_estimators': [100, 200, 300]\n",
    "}\n",
    "\n",
    "# Create GridSearchCV object\n",
    "grid_search = GridSearchCV(pipeline_with_xgb, param_grid, cv=3, verbose=2, n_jobs=-1)\n",
    "\n",
    "# Fit the model\n",
    "grid_search.fit(train, train['class'])\n",
    "\n",
    "# Get the best parameters and best score\n",
    "print(\"Best Parameters:\", grid_search.best_params_)\n",
    "print(\"Best Score:\", grid_search.best_score_)\n",
    "\n",
    "# Make predictions on the test data using the best estimator\n",
    "best_estimator = grid_search.best_estimator_\n",
    "y_pred = best_estimator.predict(test)\n",
    "\n",
    "# Evaluate the model\n",
    "accuracy = accuracy_score(test['class'], y_pred)\n",
    "print(\"Accuracy:\", accuracy)\n",
    "\n",
    "# Print classification report\n",
    "print(\"Classification Report:\")\n",
    "print(classification_report(test['class'], y_pred))\n"
   ]
  },
  {
   "cell_type": "markdown",
   "metadata": {},
   "source": [
    "##  Multiple Binary Classifications - (One Vs Rest Classifier)\n"
   ]
  },
  {
   "cell_type": "code",
   "execution_count": 318,
   "metadata": {},
   "outputs": [
    {
     "name": "stdout",
     "output_type": "stream",
     "text": [
      "Accuracy: 0.46\n",
      "Classification Report:\n",
      "              precision    recall  f1-score   support\n",
      "\n",
      "           0       0.78      0.42      0.55        66\n",
      "           1       0.83      0.78      0.81       102\n",
      "           2       0.90      0.78      0.84       101\n",
      "           3       0.86      0.59      0.70        71\n",
      "           4       0.92      0.30      0.45        37\n",
      "\n",
      "   micro avg       0.85      0.64      0.73       377\n",
      "   macro avg       0.86      0.58      0.67       377\n",
      "weighted avg       0.85      0.64      0.71       377\n",
      " samples avg       0.81      0.66      0.70       377\n",
      "\n"
     ]
    },
    {
     "name": "stderr",
     "output_type": "stream",
     "text": [
      "c:\\Users\\fares\\AppData\\Local\\Programs\\Python\\Python39\\lib\\site-packages\\sklearn\\metrics\\_classification.py:1509: UndefinedMetricWarning: Precision is ill-defined and being set to 0.0 in samples with no predicted labels. Use `zero_division` parameter to control this behavior.\n",
      "  _warn_prf(average, modifier, f\"{metric.capitalize()} is\", len(result))\n",
      "c:\\Users\\fares\\AppData\\Local\\Programs\\Python\\Python39\\lib\\site-packages\\sklearn\\metrics\\_classification.py:1509: UndefinedMetricWarning: Recall is ill-defined and being set to 0.0 in samples with no true labels. Use `zero_division` parameter to control this behavior.\n",
      "  _warn_prf(average, modifier, f\"{metric.capitalize()} is\", len(result))\n",
      "c:\\Users\\fares\\AppData\\Local\\Programs\\Python\\Python39\\lib\\site-packages\\sklearn\\metrics\\_classification.py:1509: UndefinedMetricWarning: F-score is ill-defined and being set to 0.0 in samples with no true nor predicted labels. Use `zero_division` parameter to control this behavior.\n",
      "  _warn_prf(average, modifier, f\"{metric.capitalize()} is\", len(result))\n"
     ]
    }
   ],
   "source": [
    "from sklearn.ensemble import RandomForestClassifier\n",
    "from sklearn.multioutput import MultiOutputClassifier\n",
    "from sklearn.datasets import make_multilabel_classification\n",
    "from sklearn.model_selection import train_test_split\n",
    "from sklearn.metrics import accuracy_score, classification_report\n",
    "\n",
    "X, y = make_multilabel_classification(n_samples=1000, n_features=20, n_classes=5, n_labels=2, random_state=42)\n",
    "\n",
    "X_train, X_test, y_train, y_test = train_test_split(X, y, test_size=0.2, random_state=42)\n",
    "\n",
    "rf_classifier = RandomForestClassifier(n_estimators=1000, random_state=42)\n",
    "\n",
    "multi_target_rf = MultiOutputClassifier(rf_classifier, n_jobs=-1)\n",
    "\n",
    "multi_target_rf.fit(X_train, y_train)\n",
    "\n",
    "y_pred = multi_target_rf.predict(X_test)\n",
    "\n",
    "accuracy = accuracy_score(y_test, y_pred)\n",
    "print(\"Accuracy:\", accuracy)\n",
    "\n",
    "# Print classification report\n",
    "print(\"Classification Report:\")\n",
    "print(classification_report(y_test, y_pred))\n"
   ]
  },
  {
   "cell_type": "markdown",
   "metadata": {},
   "source": [
    "## filling the submission file with the predictions"
   ]
  },
  {
   "cell_type": "code",
   "execution_count": 321,
   "metadata": {},
   "outputs": [],
   "source": [
    "import csv \n",
    "output_df = pd.DataFrame({'id': df_test['id'], 'class': y_pred})\n",
    "\n",
    "## save to csv\n",
    "output_df.to_csv('data/output.csv', index=False, quoting=csv.QUOTE_NONNUMERIC)\n"
   ]
  }
 ],
 "metadata": {
  "kernelspec": {
   "display_name": "Python 3",
   "language": "python",
   "name": "python3"
  },
  "language_info": {
   "codemirror_mode": {
    "name": "ipython",
    "version": 3
   },
   "file_extension": ".py",
   "mimetype": "text/x-python",
   "name": "python",
   "nbconvert_exporter": "python",
   "pygments_lexer": "ipython3",
   "version": "3.9.10"
  }
 },
 "nbformat": 4,
 "nbformat_minor": 2
}
